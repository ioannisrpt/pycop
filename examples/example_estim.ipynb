{
  "cells": [
    {
      "cell_type": "markdown",
      "metadata": {
        "id": "TB34GcWrBjef"
      },
      "source": [
        "Estimation"
      ]
    },
    {
      "cell_type": "markdown",
      "metadata": {
        "id": "Xwhmxt7tAEjG"
      },
      "source": [
        "Data import"
      ]
    },
    {
      "cell_type": "code",
      "execution_count": null,
      "metadata": {
        "colab": {
          "base_uri": "https://localhost:8080/",
          "height": 388
        },
        "id": "tMcqcgSo_7Q6",
        "outputId": "9e1ea4dc-6d74-49fa-99d3-c3eb2819e5c0"
      },
      "outputs": [
        {
          "data": {
            "text/html": [
              "\n",
              "  <div id=\"df-8a949e0b-d038-4ac2-bc5c-99b6896afbba\">\n",
              "    <div class=\"colab-df-container\">\n",
              "      <div>\n",
              "<style scoped>\n",
              "    .dataframe tbody tr th:only-of-type {\n",
              "        vertical-align: middle;\n",
              "    }\n",
              "\n",
              "    .dataframe tbody tr th {\n",
              "        vertical-align: top;\n",
              "    }\n",
              "\n",
              "    .dataframe thead th {\n",
              "        text-align: right;\n",
              "    }\n",
              "</style>\n",
              "<table border=\"1\" class=\"dataframe\">\n",
              "  <thead>\n",
              "    <tr style=\"text-align: right;\">\n",
              "      <th></th>\n",
              "      <th>US</th>\n",
              "      <th>UK</th>\n",
              "      <th>Switzerland</th>\n",
              "      <th>Sweden</th>\n",
              "      <th>Spain</th>\n",
              "      <th>Singapore</th>\n",
              "      <th>Norway</th>\n",
              "      <th>Netherlands</th>\n",
              "      <th>Japan</th>\n",
              "      <th>Italy</th>\n",
              "      <th>HongKong</th>\n",
              "      <th>Germany</th>\n",
              "      <th>France</th>\n",
              "      <th>Denmark</th>\n",
              "      <th>Canada</th>\n",
              "      <th>Belgium</th>\n",
              "      <th>Austria</th>\n",
              "      <th>Australia</th>\n",
              "    </tr>\n",
              "    <tr>\n",
              "      <th>Date</th>\n",
              "      <th></th>\n",
              "      <th></th>\n",
              "      <th></th>\n",
              "      <th></th>\n",
              "      <th></th>\n",
              "      <th></th>\n",
              "      <th></th>\n",
              "      <th></th>\n",
              "      <th></th>\n",
              "      <th></th>\n",
              "      <th></th>\n",
              "      <th></th>\n",
              "      <th></th>\n",
              "      <th></th>\n",
              "      <th></th>\n",
              "      <th></th>\n",
              "      <th></th>\n",
              "      <th></th>\n",
              "    </tr>\n",
              "  </thead>\n",
              "  <tbody>\n",
              "    <tr>\n",
              "      <th>2000-01-03</th>\n",
              "      <td>-0.006364</td>\n",
              "      <td>0.007418</td>\n",
              "      <td>0.011909</td>\n",
              "      <td>0.028405</td>\n",
              "      <td>0.007995</td>\n",
              "      <td>0.033686</td>\n",
              "      <td>0.026981</td>\n",
              "      <td>0.015721</td>\n",
              "      <td>0.008980</td>\n",
              "      <td>-0.020180</td>\n",
              "      <td>0.014310</td>\n",
              "      <td>-0.015929</td>\n",
              "      <td>0.007571</td>\n",
              "      <td>0.027345</td>\n",
              "      <td>0.004973</td>\n",
              "      <td>0.001408</td>\n",
              "      <td>0.016172</td>\n",
              "      <td>0.008597</td>\n",
              "    </tr>\n",
              "    <tr>\n",
              "      <th>2000-01-04</th>\n",
              "      <td>-0.040896</td>\n",
              "      <td>-0.029006</td>\n",
              "      <td>-0.023266</td>\n",
              "      <td>-0.013283</td>\n",
              "      <td>-0.014809</td>\n",
              "      <td>-0.014969</td>\n",
              "      <td>-0.029136</td>\n",
              "      <td>-0.033486</td>\n",
              "      <td>-0.016367</td>\n",
              "      <td>-0.010596</td>\n",
              "      <td>-0.013452</td>\n",
              "      <td>-0.010644</td>\n",
              "      <td>-0.029656</td>\n",
              "      <td>-0.010718</td>\n",
              "      <td>-0.030336</td>\n",
              "      <td>-0.029099</td>\n",
              "      <td>0.004299</td>\n",
              "      <td>-0.013132</td>\n",
              "    </tr>\n",
              "    <tr>\n",
              "      <th>2000-01-05</th>\n",
              "      <td>0.002601</td>\n",
              "      <td>-0.018383</td>\n",
              "      <td>-0.009263</td>\n",
              "      <td>-0.047861</td>\n",
              "      <td>-0.022228</td>\n",
              "      <td>-0.056299</td>\n",
              "      <td>-0.025306</td>\n",
              "      <td>-0.010066</td>\n",
              "      <td>-0.044737</td>\n",
              "      <td>-0.016052</td>\n",
              "      <td>-0.070700</td>\n",
              "      <td>-0.009102</td>\n",
              "      <td>-0.030744</td>\n",
              "      <td>-0.020555</td>\n",
              "      <td>-0.016362</td>\n",
              "      <td>-0.032784</td>\n",
              "      <td>0.004861</td>\n",
              "      <td>-0.023347</td>\n",
              "    </tr>\n",
              "    <tr>\n",
              "      <th>2000-01-06</th>\n",
              "      <td>-0.008583</td>\n",
              "      <td>-0.006808</td>\n",
              "      <td>0.012965</td>\n",
              "      <td>0.000126</td>\n",
              "      <td>0.001160</td>\n",
              "      <td>-0.022711</td>\n",
              "      <td>0.011887</td>\n",
              "      <td>-0.007967</td>\n",
              "      <td>-0.038755</td>\n",
              "      <td>-0.016775</td>\n",
              "      <td>-0.044639</td>\n",
              "      <td>-0.006322</td>\n",
              "      <td>-0.004272</td>\n",
              "      <td>0.009259</td>\n",
              "      <td>-0.010937</td>\n",
              "      <td>0.002415</td>\n",
              "      <td>0.001160</td>\n",
              "      <td>-0.007932</td>\n",
              "    </tr>\n",
              "    <tr>\n",
              "      <th>2000-01-07</th>\n",
              "      <td>0.033973</td>\n",
              "      <td>0.000371</td>\n",
              "      <td>0.016261</td>\n",
              "      <td>0.004622</td>\n",
              "      <td>0.017736</td>\n",
              "      <td>0.028970</td>\n",
              "      <td>0.010170</td>\n",
              "      <td>0.027949</td>\n",
              "      <td>-0.003075</td>\n",
              "      <td>0.025474</td>\n",
              "      <td>0.018907</td>\n",
              "      <td>0.040592</td>\n",
              "      <td>0.011951</td>\n",
              "      <td>-0.000775</td>\n",
              "      <td>0.050676</td>\n",
              "      <td>0.018796</td>\n",
              "      <td>0.018210</td>\n",
              "      <td>0.010410</td>\n",
              "    </tr>\n",
              "  </tbody>\n",
              "</table>\n",
              "</div>\n",
              "      <button class=\"colab-df-convert\" onclick=\"convertToInteractive('df-8a949e0b-d038-4ac2-bc5c-99b6896afbba')\"\n",
              "              title=\"Convert this dataframe to an interactive table.\"\n",
              "              style=\"display:none;\">\n",
              "        \n",
              "  <svg xmlns=\"http://www.w3.org/2000/svg\" height=\"24px\"viewBox=\"0 0 24 24\"\n",
              "       width=\"24px\">\n",
              "    <path d=\"M0 0h24v24H0V0z\" fill=\"none\"/>\n",
              "    <path d=\"M18.56 5.44l.94 2.06.94-2.06 2.06-.94-2.06-.94-.94-2.06-.94 2.06-2.06.94zm-11 1L8.5 8.5l.94-2.06 2.06-.94-2.06-.94L8.5 2.5l-.94 2.06-2.06.94zm10 10l.94 2.06.94-2.06 2.06-.94-2.06-.94-.94-2.06-.94 2.06-2.06.94z\"/><path d=\"M17.41 7.96l-1.37-1.37c-.4-.4-.92-.59-1.43-.59-.52 0-1.04.2-1.43.59L10.3 9.45l-7.72 7.72c-.78.78-.78 2.05 0 2.83L4 21.41c.39.39.9.59 1.41.59.51 0 1.02-.2 1.41-.59l7.78-7.78 2.81-2.81c.8-.78.8-2.07 0-2.86zM5.41 20L4 18.59l7.72-7.72 1.47 1.35L5.41 20z\"/>\n",
              "  </svg>\n",
              "      </button>\n",
              "      \n",
              "  <style>\n",
              "    .colab-df-container {\n",
              "      display:flex;\n",
              "      flex-wrap:wrap;\n",
              "      gap: 12px;\n",
              "    }\n",
              "\n",
              "    .colab-df-convert {\n",
              "      background-color: #E8F0FE;\n",
              "      border: none;\n",
              "      border-radius: 50%;\n",
              "      cursor: pointer;\n",
              "      display: none;\n",
              "      fill: #1967D2;\n",
              "      height: 32px;\n",
              "      padding: 0 0 0 0;\n",
              "      width: 32px;\n",
              "    }\n",
              "\n",
              "    .colab-df-convert:hover {\n",
              "      background-color: #E2EBFA;\n",
              "      box-shadow: 0px 1px 2px rgba(60, 64, 67, 0.3), 0px 1px 3px 1px rgba(60, 64, 67, 0.15);\n",
              "      fill: #174EA6;\n",
              "    }\n",
              "\n",
              "    [theme=dark] .colab-df-convert {\n",
              "      background-color: #3B4455;\n",
              "      fill: #D2E3FC;\n",
              "    }\n",
              "\n",
              "    [theme=dark] .colab-df-convert:hover {\n",
              "      background-color: #434B5C;\n",
              "      box-shadow: 0px 1px 3px 1px rgba(0, 0, 0, 0.15);\n",
              "      filter: drop-shadow(0px 1px 2px rgba(0, 0, 0, 0.3));\n",
              "      fill: #FFFFFF;\n",
              "    }\n",
              "  </style>\n",
              "\n",
              "      <script>\n",
              "        const buttonEl =\n",
              "          document.querySelector('#df-8a949e0b-d038-4ac2-bc5c-99b6896afbba button.colab-df-convert');\n",
              "        buttonEl.style.display =\n",
              "          google.colab.kernel.accessAllowed ? 'block' : 'none';\n",
              "\n",
              "        async function convertToInteractive(key) {\n",
              "          const element = document.querySelector('#df-8a949e0b-d038-4ac2-bc5c-99b6896afbba');\n",
              "          const dataTable =\n",
              "            await google.colab.kernel.invokeFunction('convertToInteractive',\n",
              "                                                     [key], {});\n",
              "          if (!dataTable) return;\n",
              "\n",
              "          const docLinkHtml = 'Like what you see? Visit the ' +\n",
              "            '<a target=\"_blank\" href=https://colab.research.google.com/notebooks/data_table.ipynb>data table notebook</a>'\n",
              "            + ' to learn more about interactive tables.';\n",
              "          element.innerHTML = '';\n",
              "          dataTable['output_type'] = 'display_data';\n",
              "          await google.colab.output.renderOutput(dataTable, element);\n",
              "          const docLink = document.createElement('div');\n",
              "          docLink.innerHTML = docLinkHtml;\n",
              "          element.appendChild(docLink);\n",
              "        }\n",
              "      </script>\n",
              "    </div>\n",
              "  </div>\n",
              "  "
            ],
            "text/plain": [
              "                  US        UK  Switzerland    Sweden     Spain  Singapore  \\\n",
              "Date                                                                         \n",
              "2000-01-03 -0.006364  0.007418     0.011909  0.028405  0.007995   0.033686   \n",
              "2000-01-04 -0.040896 -0.029006    -0.023266 -0.013283 -0.014809  -0.014969   \n",
              "2000-01-05  0.002601 -0.018383    -0.009263 -0.047861 -0.022228  -0.056299   \n",
              "2000-01-06 -0.008583 -0.006808     0.012965  0.000126  0.001160  -0.022711   \n",
              "2000-01-07  0.033973  0.000371     0.016261  0.004622  0.017736   0.028970   \n",
              "\n",
              "              Norway  Netherlands     Japan     Italy  HongKong   Germany  \\\n",
              "Date                                                                        \n",
              "2000-01-03  0.026981     0.015721  0.008980 -0.020180  0.014310 -0.015929   \n",
              "2000-01-04 -0.029136    -0.033486 -0.016367 -0.010596 -0.013452 -0.010644   \n",
              "2000-01-05 -0.025306    -0.010066 -0.044737 -0.016052 -0.070700 -0.009102   \n",
              "2000-01-06  0.011887    -0.007967 -0.038755 -0.016775 -0.044639 -0.006322   \n",
              "2000-01-07  0.010170     0.027949 -0.003075  0.025474  0.018907  0.040592   \n",
              "\n",
              "              France   Denmark    Canada   Belgium   Austria  Australia  \n",
              "Date                                                                     \n",
              "2000-01-03  0.007571  0.027345  0.004973  0.001408  0.016172   0.008597  \n",
              "2000-01-04 -0.029656 -0.010718 -0.030336 -0.029099  0.004299  -0.013132  \n",
              "2000-01-05 -0.030744 -0.020555 -0.016362 -0.032784  0.004861  -0.023347  \n",
              "2000-01-06 -0.004272  0.009259 -0.010937  0.002415  0.001160  -0.007932  \n",
              "2000-01-07  0.011951 -0.000775  0.050676  0.018796  0.018210   0.010410  "
            ]
          },
          "execution_count": 15,
          "metadata": {},
          "output_type": "execute_result"
        }
      ],
      "source": [
        "import pandas as pd\n",
        "import numpy as np\n",
        "\n",
        "df = pd.read_csv(\"https://raw.githubusercontent.com/maximenc/pycop/master/data/msci.csv\")\n",
        "df.index = pd.to_datetime(df[\"Date\"], format=\"%m/%d/%Y\")\n",
        "df = df.drop([\"Date\"], axis=1)\n",
        "\n",
        "for col in df.columns.values:\n",
        "    df[col] = np.log(df[col]) - np.log(df[col].shift(1))\n",
        "\n",
        "df = df.dropna()\n",
        "df.head()"
      ]
    },
    {
      "cell_type": "markdown",
      "metadata": {
        "id": "_CVvuX-EAbfp"
      },
      "source": [
        "Import the pycop library that's not in Colab"
      ]
    },
    {
      "cell_type": "code",
      "execution_count": null,
      "metadata": {
        "colab": {
          "base_uri": "https://localhost:8080/"
        },
        "id": "jdJ-mnShApAZ",
        "outputId": "3219fbe2-8cb1-4635-c2e6-9b9404544128"
      },
      "outputs": [
        {
          "name": "stdout",
          "output_type": "stream",
          "text": [
            "Requirement already satisfied: pycop in /usr/local/lib/python3.7/dist-packages (0.0.6)\n"
          ]
        }
      ],
      "source": [
        "!pip install pycop"
      ]
    },
    {
      "cell_type": "markdown",
      "metadata": {
        "id": "moCHVzNiEo2Y"
      },
      "source": [
        "Estimation of a single Copula parameter"
      ]
    },
    {
      "cell_type": "code",
      "execution_count": null,
      "metadata": {
        "colab": {
          "base_uri": "https://localhost:8080/"
        },
        "id": "Gm4gwwAFBGJw",
        "outputId": "3884fe54-e4f1-40c2-db2f-a178b215a0ab"
      },
      "outputs": [
        {
          "name": "stdout",
          "output_type": "stream",
          "text": [
            "method =  SLSQP  - termination =  True  - message:  Optimization terminated successfully.\n",
            "Estimated parameter:  0.8025977727691012\n"
          ]
        }
      ],
      "source": [
        "from pycop import archimedean, estimation\n",
        "cop = archimedean(family=\"clayton\")\n",
        "\n",
        "data = df[[\"US\",\"UK\"]].T.values\n",
        "param, cmle = estimation.fit_cmle(cop, data)\n",
        "print(\"Estimated parameter: \", param[0])"
      ]
    },
    {
      "cell_type": "markdown",
      "metadata": {
        "id": "N5nAZWSlBlvD"
      },
      "source": [
        "Mixture\n"
      ]
    },
    {
      "cell_type": "markdown",
      "metadata": {
        "id": "aNLJyyUaChBr"
      },
      "source": [
        "Mixture of 2 Copulas\n",
        "\n",
        "\n"
      ]
    },
    {
      "cell_type": "code",
      "execution_count": null,
      "metadata": {
        "colab": {
          "base_uri": "https://localhost:8080/"
        },
        "id": "6QQySVjLBuSd",
        "outputId": "51b34629-e701-4e4a-d374-4d4415bd0967"
      },
      "outputs": [
        {
          "name": "stdout",
          "output_type": "stream",
          "text": [
            "method =  SLSQP  - termination =  True  - message:  Optimization terminated successfully.\n",
            "Estimated parameters: \n",
            "weight in Clayton copula:  0.5515374306606079\n",
            "weight in Gumbel copula:  0.4484625693393921\n",
            "Clayton parameter:  0.42308968740122027\n",
            "Gumbel parameter:  2.265138697501126\n"
          ]
        }
      ],
      "source": [
        "from pycop import mixture\n",
        "\n",
        "cop = mixture([\"clayton\", \"gumbel\"])\n",
        "\n",
        "param, mle = estimation.fit_cmle_mixt(cop,data )\n",
        "print(\"Estimated parameters: \")\n",
        "print(\"weight in Clayton copula: \", param[0])\n",
        "print(\"weight in Gumbel copula: \", 1-param[0])\n",
        "print(\"Clayton parameter: \", param[1])\n",
        "print(\"Gumbel parameter: \", param[2])"
      ]
    },
    {
      "cell_type": "markdown",
      "metadata": {
        "id": "5Kg9_BpUDVpP"
      },
      "source": [
        "Mixture of 3 Copulas"
      ]
    },
    {
      "cell_type": "code",
      "execution_count": null,
      "metadata": {
        "colab": {
          "base_uri": "https://localhost:8080/"
        },
        "id": "L-5ACn1TDWSp",
        "outputId": "ece145a2-5aa0-44ae-e8a7-3c2acace8008"
      },
      "outputs": [
        {
          "name": "stdout",
          "output_type": "stream",
          "text": [
            "method =  SLSQP  - termination =  True  - message:  Optimization terminated successfully.\n",
            "Estimated parameters: \n",
            "weight in Clayton copula:  0.35613959154707575\n",
            "weight in Frank copula:  0.12637150155636992\n",
            "weight in Gumbel copula:  0.5174889068965544\n",
            "Clayton parameter:  1.5089246645156034\n",
            "Frank parameter:  -5.899959588867644\n",
            "Gumbel parameter:  1.8415684650315947\n"
          ]
        }
      ],
      "source": [
        "cop = mixture([\"clayton\", \"frank\", \"gumbel\"])\n",
        "\n",
        "param, mle = estimation.fit_cmle_mixt(cop, data)\n",
        "print(\"Estimated parameters: \")\n",
        "print(\"weight in Clayton copula: \", param[0])\n",
        "print(\"weight in Frank copula: \", param[1])\n",
        "print(\"weight in Gumbel copula: \", param[2])\n",
        "print(\"Clayton parameter: \", param[3])\n",
        "print(\"Frank parameter: \", param[4])\n",
        "print(\"Gumbel parameter: \", param[5])"
      ]
    }
  ],
  "metadata": {
    "colab": {
      "name": "example_estim.ipynb",
      "provenance": []
    },
    "kernelspec": {
      "display_name": "Python 3.10.6 ('test-env': venv)",
      "language": "python",
      "name": "python3"
    },
    "language_info": {
      "name": "python",
      "version": "3.10.6"
    },
    "vscode": {
      "interpreter": {
        "hash": "684c597edd994fb8a573e32bcd1af30dbfcaa9a74f1316b10fafe91077b46267"
      }
    }
  },
  "nbformat": 4,
  "nbformat_minor": 0
}
